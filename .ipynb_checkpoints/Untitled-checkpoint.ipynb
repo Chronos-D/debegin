{
 "cells": [
  {
   "cell_type": "code",
   "execution_count": 1,
   "id": "70911030-5b92-4313-a5b4-db20d3b1c472",
   "metadata": {},
   "outputs": [
    {
     "name": "stdout",
     "output_type": "stream",
     "text": [
      "he. he. he.\n"
     ]
    }
   ],
   "source": [
    "print(\"he. he. he.\")"
   ]
  }
 ],
 "metadata": {
  "kernelspec": {
   "display_name": "Python 3 (ipykernel)",
   "language": "python",
   "name": "python3"
  },
  "language_info": {
   "codemirror_mode": {
    "name": "ipython",
    "version": 3
   },
   "file_extension": ".py",
   "mimetype": "text/x-python",
   "name": "python",
   "nbconvert_exporter": "python",
   "pygments_lexer": "ipython3",
   "version": "3.12.1"
  }
 },
 "nbformat": 4,
 "nbformat_minor": 5
}
